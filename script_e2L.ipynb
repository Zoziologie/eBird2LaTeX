{
  "cells": [
    {
      "cell_type": "markdown",
      "metadata": {
        "id": "IYXr7RGstX86"
      },
      "source": [
        "# Example of use of eBird2LaTeX python module\n",
        "\n",
        "In this example, we will see how to use the `e2L` package and produce a checklist pdf. This script is a good place to start learning about the package.\n"
      ]
    },
    {
      "cell_type": "markdown",
      "metadata": {
        "id": "kn3O5ATUmia-"
      },
      "source": [
        "## 1. Setup\n",
        "\n",
        "First, let's import the dependancies as well as the `e2L` module [from the github repository](https://github.com/Zoziologie/ebird2latex)\n"
      ]
    },
    {
      "cell_type": "code",
      "execution_count": 1,
      "metadata": {
        "colab": {
          "base_uri": "https://localhost:8080/"
        },
        "id": "tzeseVgqmbpC",
        "outputId": "f4e594f5-58f6-4fbb-c26a-57698508b21b"
      },
      "outputs": [
        {
          "name": "stdout",
          "output_type": "stream",
          "text": [
            "Not running in Google Colab. Skipping Colab-specific code.\n"
          ]
        }
      ],
      "source": [
        "import os\n",
        "import json\n",
        "\n",
        "try:\n",
        "    # Check if running in Google Colab\n",
        "    import google.colab\n",
        "\n",
        "    # Download the Python script\n",
        "    os.system(\n",
        "        \"wget --no-cache --backups=1 https://raw.githubusercontent.com/Zoziologie/ebird2latex/master/e2L.py\"\n",
        "    )\n",
        "\n",
        "    # Ensure the required Python package is installed\n",
        "    os.system(\"pip install cssselect\")\n",
        "\n",
        "    # Create assets directory and download the LaTeX template\n",
        "    os.makedirs(\"assets\", exist_ok=True)\n",
        "    os.system(\n",
        "        \"wget --no-cache --backups=1 https://raw.githubusercontent.com/Zoziologie/ebird2latex/master/assets/templateLaTeX.tex -P assets/\"\n",
        "    )\n",
        "except ImportError:\n",
        "    print(\"Not running in Google Colab. Skipping Colab-specific code.\")\n",
        "\n",
        "# Import the downloaded Python script and cssselect module\n",
        "try:\n",
        "    import e2L\n",
        "    import cssselect\n",
        "except ImportError as e:\n",
        "    print(f\"Failed to import a module: {e}\")"
      ]
    },
    {
      "cell_type": "markdown",
      "metadata": {
        "id": "UXOV60gfvSrB"
      },
      "source": [
        "## 2. Authentification\n",
        "\n",
        "To be able to download barchat data, you will need to use your eBird login. Mine are stored in a private file on google drive as json file:\n",
        "\n",
        "```{json}\n",
        "{\n",
        "    \"username\": \"your_ebird_username\",\n",
        "    \"password\": \"your_ebird_password\"\n",
        "}\n",
        "```\n"
      ]
    },
    {
      "cell_type": "code",
      "execution_count": 2,
      "metadata": {
        "colab": {
          "base_uri": "https://localhost:8080/"
        },
        "id": "a7kCkz5NvTNH",
        "outputId": "d97621e5-1122-4b69-d39e-3e6ed935a066"
      },
      "outputs": [],
      "source": [
        "try:\n",
        "    # If running in Google Colab\n",
        "    from google.colab import drive\n",
        "\n",
        "    drive.mount(\"/content/drive\")\n",
        "    path = \"/content/drive/MyDrive/auth.json\"\n",
        "except ImportError:\n",
        "    path = \"auth.json\"\n",
        "\n",
        "with open(\"auth.json\") as f:\n",
        "    auth = json.load(f)"
      ]
    },
    {
      "cell_type": "markdown",
      "metadata": {
        "id": "AGKURAXBou92"
      },
      "source": [
        "This allows to run [`e2L.auth`](https://github.com/Zoziologie/ebird2latex/blob/caabd2c2a06c9f882d80f637011f26835b792099/e2L.py#L63) to starts a [`requests`](https://docs.python-requests.org/en/latest/) session with your login and password and returns it to you.\n"
      ]
    },
    {
      "cell_type": "code",
      "execution_count": 3,
      "metadata": {
        "colab": {
          "base_uri": "https://localhost:8080/"
        },
        "id": "WFLdFp0rocZo",
        "outputId": "6fe3b403-6a2c-4a96-cc91-34faad22fa12"
      },
      "outputs": [
        {
          "name": "stdout",
          "output_type": "stream",
          "text": [
            "request sessionID from login...\n",
            "...login succesfull\n"
          ]
        }
      ],
      "source": [
        "session = e2L.auth(auth[\"username\"], auth[\"password\"])"
      ]
    },
    {
      "cell_type": "markdown",
      "metadata": {
        "id": "5dsG9rW0m9pG"
      },
      "source": [
        "## 2. Create the bird list\n",
        "\n",
        "The checklist can be generated for any location with a valid locID code. This can be country, subregion1, subregion2 or specific hotspot. Check out [the old API for a complete list of regions and hotspot](https://confluence.cornell.edu/display/CLOISAPI/eBird-1.1-HotSpotsByRegion) or [the more brief but new API](https://documenter.getpostman.com/view/664302/S1ENwy59#f4f59f90-854e-4ba6-8207-323a8cf0bfe0).\n",
        "\n",
        "[`e2L.bird_creator`](https://github.com/Zoziologie/ebird2latex/blob/caabd2c2a06c9f882d80f637011f26835b792099/e2L.py#L85) do the following two steps:\n",
        "\n",
        "- First load the barchart data ([`load_barchart`](https://github.com/Zoziologie/ebird2latex/blob/caabd2c2a06c9f882d80f637011f26835b792099/e2L.py#L130)) from eBird using: `http://ebird.org/barchartData?r={code_loc}&bmo={bmonth}&emo={emonth}&byr={byear}&eyr={eyear}`. This includes the list of bird recorded at this location with its occurance per week.\n",
        "- Then load the taxonomy information ([`load_taxa`](https://github.com/Zoziologie/ebird2latex/blob/caabd2c2a06c9f882d80f637011f26835b792099/e2L.py#L173)) from the [eBird API](https://documenter.getpostman.com/view/664302/S1ENwy59#952a4310-536d-4ad1-8f3e-77cfb624d1bc). You can choose [any available languages](https://support.ebird.org/en/support/solutions/articles/48000804865-bird-names-in-ebird) and [species category ](https://ebird.org/science/use-ebird-data/the-ebird-taxonomy).\n"
      ]
    },
    {
      "cell_type": "code",
      "execution_count": null,
      "metadata": {
        "colab": {
          "base_uri": "https://localhost:8080/"
        },
        "id": "6OLHAcdwm7SF",
        "outputId": "028b72e7-89ea-4f3e-9506-64f2064f9b29"
      },
      "outputs": [
        {
          "name": "stdout",
          "output_type": "stream",
          "text": [
            "Load barchart data from http://ebird.org/barchartData?r=US-FL&bmo=1&emo=12&byr=1900&eyr=2050&fmt=tsv\n"
          ]
        }
      ],
      "source": [
        "projet_name = \"Florida\"\n",
        "filename = projet_name.replace(\" \", \"_\").replace(\"'\", \"\").replace(\".\", \"\")\n",
        "\n",
        "code_loc = \"US-FL\"\n",
        "lang = [\"EN\"]\n",
        "cat = [\"species\"]  # domestic, form, hybrid,intergrade,issf,slash,species,spuh\n",
        "byear = 1900\n",
        "eyear = 2050\n",
        "bmonth = 1\n",
        "emonth = 12\n",
        "info, bird_list = e2L.bird_creator(\n",
        "    session, code_loc, lang, cat, byear, eyear, bmonth, emonth\n",
        ")"
      ]
    },
    {
      "cell_type": "markdown",
      "metadata": {
        "id": "yXW6U20e2oY2"
      },
      "source": [
        "## 3. Add Status\n",
        "\n",
        "**New.** You can now add a `status` to each species. For the moment, `status` can\n",
        "\n",
        "- an eBird target for a particular time (`year` or `life`) and place(e.g. `world`, `code_loc` or any other region). [To compute this](https://github.com/Zoziologie/ebird2latex/blob/7052c2db9781dbcfb3ef83881659d539495bf2d1/e2L.py#L210), we check that the species is absent from your list for that region/time (`https://ebird.org/lifelist/{target_loc}/?time={target_time}`).\n",
        "- `Endemic` or `introduced` according to [Avibase](https://avibase.bsc-eoc.org/). [To compute this](https://github.com/Zoziologie/ebird2latex/blob/7052c2db9781dbcfb3ef83881659d539495bf2d1/e2L.py#L240), we check the value on the avibase checklist for a particular region (`https://avibase.bsc-eoc.org/checklist.jsp?region={code_loc}&list=clements`). Note that this `code_loc` might be difference than eBird.\n",
        "\n",
        "The first input of the status functions is the label attributed to the species if the condition is true. This label will be needed later when displaying it. Thus, they need to be unique.\n"
      ]
    },
    {
      "cell_type": "code",
      "execution_count": null,
      "metadata": {
        "colab": {
          "base_uri": "https://localhost:8080/"
        },
        "id": "EAisD07pndDc",
        "outputId": "4b4b04a1-49ba-4de8-dc27-625dc5c8e2a9"
      },
      "outputs": [],
      "source": [
        "target_time = \"life\"\n",
        "bird_list = e2L.statusInList(\"target-world\", bird_list, session, \"world\", target_time)\n",
        "bird_list = e2L.statusInList(\"target-US\", bird_list, session, \"US\", target_time)\n",
        "bird_list = e2L.statusInList(\n",
        "    \"target-code_loc\", bird_list, session, code_loc, target_time\n",
        ")\n",
        "bird_list = e2L.statusAvibase([\"endemic-US\", \"introduce-US\"], bird_list, \"USfl\")"
      ]
    },
    {
      "cell_type": "markdown",
      "metadata": {
        "id": "Qe6rTIQq5Ech"
      },
      "source": [
        "## 4. Define column\n",
        "\n",
        "In this next step, we can define what to display in the checklist. This is performed by creating a list of `TableInput(type,option1,option1,option2,option3)` of the following possible `type`:\n",
        "\n",
        "- `lang`: display the name of the species in a particular language. `option1` can only be one of the language code requested when building the bird list. (latin is always possible (`LA`)). See below for `option2`.\n",
        "- `freq`: disply occurence frequence. `option1` can be 'year', 'season', 'month' or 'week'. `option2` is the index of `option1` to display (e.g, `month,0` is january, `season,1` is summer). `year` does not have an index.\n",
        "- `checkbox` display a checkbox. `option1` is the number of checkbox to display (default: 3).\n",
        "- `line` display empty lines (\"\\_\\_\\_\") . `option1` is the number of lines (default: 3) and `option2` their length with unit (default: '3ex').\n",
        "- `note` display note line (\"...\")length (eg. : 4cm).\n",
        "\n",
        "**New**. Using `status`, we can now highlight specific species in the checklist. This is done by addinng a `statusTable` to `option2` to the type `lang`. `statusTable` is a list of lists of status criteria and style corresponding. The status criteria to apply should be the same value given when creating the status (first input of the status function). The style are currently:\n",
        "\n",
        "- `bold`, `italic`, `underline`\n",
        "- coloring the font with `color-{color_value}`, see [`xcolor`](https://steeven9.github.io/USI-LaTeX/html/packages_hyperref_babel_xcolor3.html) for the list of possible color\n",
        "- adding a symbol after the name. with `sym-{symbole_value}`. Any single character symbol should work.\n",
        "\n",
        "Note that the order of the column in `col`define the order in the checklist\n"
      ]
    },
    {
      "cell_type": "code",
      "execution_count": 19,
      "metadata": {
        "id": "bEgKcP8v5E0M"
      },
      "outputs": [],
      "source": [
        "col = []\n",
        "col.append(e2L.TableInput(info, \"checkbox\", 1))\n",
        "# col.append(e2L.TableInput(info,'line',1,'8ex'))\n",
        "# col.append(e2L.TableInput(info,'note','3cm'))\n",
        "statusTable = [\n",
        "    [\"endemic-US\", \"bold\"],\n",
        "    [\"introduce-US\", \"color-violet\"],\n",
        "    [\"target-world\", \"sym-*\"],\n",
        "    [\"target-US\", \"sym-*\"],\n",
        "]\n",
        "col.append(e2L.TableInput(info, \"lang\", \"EN\", statusTable))\n",
        "# col.append(e2L.TableInput(info,'lang','LA'))\n",
        "# col.append(e2L.TableInput(info,'freq','year'))\n",
        "# col.append(e2L.TableInput(info,'freq','season',0))\n",
        "col.append(e2L.TableInput(info, \"freq\", \"month\", 4))"
      ]
    },
    {
      "cell_type": "markdown",
      "metadata": {
        "id": "ua1ueVSX-bkm"
      },
      "source": [
        "## 5. Create the tex file\n",
        "\n",
        "When creating the $\\LaTeX$ document, you can add more formating option to the document (`format`) and change the spacing between row (`spacing`).\n",
        "\n",
        "You can also choose to display the family name or not `family`.\n",
        "\n",
        "You can filter the specie to show in the table as you want in `condition_tableau`. The first value is the text displayed and the second is the actual code evaluated for each `bird` from the bird list.\n",
        "Similarly, you can also display a short rare species list at the end of your checklist with `condition_rare`. To not display this rare table, simply set an impossible condition\n"
      ]
    },
    {
      "cell_type": "code",
      "execution_count": 20,
      "metadata": {
        "id": "6JABd8X1-b5q"
      },
      "outputs": [],
      "source": [
        "format = \"letterpaper,margin=.3in,twocolumn\"  #'a4paper,margin=15mm,twocolumn'\n",
        "spacing = \".95\"\n",
        "family = True\n",
        "condition_tableau = [\n",
        "    \"Main table display only non-hybrid birds with occurence >0.1\\\\%.\",\n",
        "    \" ( bird['freq']['year'] >= 0.001)\",\n",
        "]\n",
        "# condition_rare = ['\\\\footnotesize{>.1\\\\%}',\" (bird['freq']['year'] < .01) and (bird['freq']['year'] > 0.001)\"]\n",
        "condition_rare = [\n",
        "    \"\\\\footnotesize{>.1\\\\%}\",\n",
        "    \" (bird['freq']['year'] < .00) and (bird['freq']['year'] > 0.001)\",\n",
        "]\n",
        "\n",
        "e2L.write_to_latex(\n",
        "    projet_name,\n",
        "    filename,\n",
        "    bird_list,\n",
        "    col,\n",
        "    condition_tableau,\n",
        "    condition_rare,\n",
        "    family,\n",
        "    format,\n",
        "    spacing,\n",
        "    info,\n",
        ")"
      ]
    },
    {
      "cell_type": "markdown",
      "metadata": {
        "id": "dT-EHBgZ-3uJ"
      },
      "source": [
        "## 7. Running $\\LaTeX$\n",
        "\n",
        "Install basic tex.\n"
      ]
    },
    {
      "cell_type": "code",
      "execution_count": null,
      "metadata": {
        "id": "xLP-eg5dG_2N"
      },
      "outputs": [],
      "source": [
        "!sudo apt-get install texlive-latex-recommended texlive-latex-extra"
      ]
    },
    {
      "cell_type": "markdown",
      "metadata": {
        "id": "kGTB0tfQqjGM"
      },
      "source": [
        "Doing the magic 🤩\n"
      ]
    },
    {
      "cell_type": "code",
      "execution_count": null,
      "metadata": {
        "id": "j-0TNlcj-7Hf"
      },
      "outputs": [],
      "source": [
        "!pdflatex -output-directory=./latex ./latex/Florida.tex"
      ]
    }
  ],
  "metadata": {
    "colab": {
      "name": "script_e2L.ipynb",
      "provenance": []
    },
    "kernelspec": {
      "display_name": "base",
      "language": "python",
      "name": "python3"
    },
    "language_info": {
      "codemirror_mode": {
        "name": "ipython",
        "version": 3
      },
      "file_extension": ".py",
      "mimetype": "text/x-python",
      "name": "python",
      "nbconvert_exporter": "python",
      "pygments_lexer": "ipython3",
      "version": "3.11.7"
    }
  },
  "nbformat": 4,
  "nbformat_minor": 0
}
